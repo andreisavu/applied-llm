{
 "cells": [
  {
   "cell_type": "code",
   "execution_count": 1,
   "metadata": {},
   "outputs": [],
   "source": [
    "import torch\n",
    "from transformers import AutoTokenizer, AutoModelForCausalLM"
   ]
  },
  {
   "cell_type": "code",
   "execution_count": 2,
   "metadata": {},
   "outputs": [
    {
     "name": "stderr",
     "output_type": "stream",
     "text": [
      "Using unk_token, but it is not set yet.\n",
      "Using unk_token, but it is not set yet.\n"
     ]
    },
    {
     "data": {
      "application/vnd.jupyter.widget-view+json": {
       "model_id": "5fb075a207544de49ee6eca4bd8c6142",
       "version_major": 2,
       "version_minor": 0
      },
      "text/plain": [
       "Loading checkpoint shards:   0%|          | 0/3 [00:00<?, ?it/s]"
      ]
     },
     "metadata": {},
     "output_type": "display_data"
    }
   ],
   "source": [
    "tokenizer = AutoTokenizer.from_pretrained(\"Salesforce/xgen-7b-8k-base\", trust_remote_code=True)\n",
    "model = AutoModelForCausalLM.from_pretrained(\"Salesforce/xgen-7b-8k-base\", torch_dtype=torch.bfloat16)"
   ]
  },
  {
   "cell_type": "code",
   "execution_count": 3,
   "metadata": {},
   "outputs": [],
   "source": [
    "device = \"cuda:0\" if torch.cuda.is_available() else \"cpu\"\n",
    "model = model.to(device)"
   ]
  },
  {
   "cell_type": "code",
   "execution_count": 8,
   "metadata": {},
   "outputs": [
    {
     "name": "stdout",
     "output_type": "stream",
     "text": [
      "Going for a walk in the park to \n",
      "\n",
      "*\n",
      "\n",
      "*get some fresh air\n",
      "\n",
      "*get some exercise\n",
      "\n",
      "*get some sunshine\n",
      "\n",
      "*get some fresh air\n",
      "\n",
      "*get some exercise\n",
      "\n",
      "*get some sunshine\n",
      "\n",
      "*get some fresh air\n",
      "\n",
      "*get some exercise\n",
      "\n",
      "*get some sunshine\n",
      "\n",
      "*get some fresh air\n",
      "\n",
      "*get some exercise\n",
      "\n",
      "*get some sunshine\n",
      "\n",
      "*get some fresh air\n",
      "\n",
      "*get some exercise\n",
      "\n",
      "*get some sunshine\n",
      "\n",
      "*get some fresh air\n",
      "\n",
      "*get some exercise\n",
      "\n",
      "*get some sunshine\n",
      "\n",
      "\n"
     ]
    }
   ],
   "source": [
    "inputs = tokenizer(\"Going for a walk in the park to \", return_tensors=\"pt\").to(device)\n",
    "sample = model.generate(**inputs, max_length=128)\n",
    "print(tokenizer.decode(sample[0]))"
   ]
  }
 ],
 "metadata": {
  "kernelspec": {
   "display_name": "Python 3 (ipykernel)",
   "language": "python",
   "name": "python3"
  },
  "language_info": {
   "codemirror_mode": {
    "name": "ipython",
    "version": 3
   },
   "file_extension": ".py",
   "mimetype": "text/x-python",
   "name": "python",
   "nbconvert_exporter": "python",
   "pygments_lexer": "ipython3",
   "version": "3.8.10"
  },
  "orig_nbformat": 4
 },
 "nbformat": 4,
 "nbformat_minor": 2
}
